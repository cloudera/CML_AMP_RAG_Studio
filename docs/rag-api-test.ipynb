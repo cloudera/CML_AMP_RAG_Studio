{
 "cells": [
  {
   "cell_type": "code",
   "execution_count": null,
   "id": "df43189f-3aa4-4e75-bf1a-19af198766db",
   "metadata": {},
   "outputs": [],
   "source": [
    "import json\n",
    "import requests\n",
    "from IPython.display import display, HTML"
   ]
  },
  {
   "cell_type": "markdown",
   "id": "c85c091a-ae3e-4b6e-883e-b87787b5c229",
   "metadata": {},
   "source": [
    "## Request setup"
   ]
  },
  {
   "cell_type": "code",
   "execution_count": null,
   "id": "722254f4-6a83-44c5-846f-6234e1699855",
   "metadata": {},
   "outputs": [],
   "source": [
    "BASE = \"<your-cml-base-url-for-rag-studio>\"\n",
    "API_KEY = \"<your-cml-workbench-api-key-with-application-access>\""
   ]
  },
  {
   "cell_type": "code",
   "execution_count": null,
   "id": "558a001c-09a0-42c0-accb-116803690cdd",
   "metadata": {},
   "outputs": [],
   "source": [
    "headers = {\"Content-Type\": \"application/json\",\n",
    "          \"Authorization\": f\"Bearer {API_KEY}\",\n",
    "        #   \"remote-user\": \"alice\" # optional\n",
    "}"
   ]
  },
  {
   "cell_type": "markdown",
   "id": "3a4f3865-07d0-40b8-8068-cf37324f54a4",
   "metadata": {},
   "source": [
    "## Health Check"
   ]
  },
  {
   "cell_type": "code",
   "execution_count": null,
   "id": "257e29a3-390d-4881-b740-e146d798e4f1",
   "metadata": {},
   "outputs": [],
   "source": [
    "resp = requests.get(\n",
    "    f\"{BASE}/\",\n",
    "    headers = headers,\n",
    ")\n",
    "resp.raise_for_status()"
   ]
  },
  {
   "cell_type": "code",
   "execution_count": null,
   "id": "11f163de-7e89-4bcc-93c6-1d986836bdf9",
   "metadata": {},
   "outputs": [],
   "source": [
    "resp.text"
   ]
  },
  {
   "cell_type": "markdown",
   "id": "059d3a45-8383-4995-85d7-38ee375fd53a",
   "metadata": {},
   "source": [
    "## Projects"
   ]
  },
  {
   "cell_type": "markdown",
   "id": "78336781-21c9-4fd4-92dc-77f994b842e5",
   "metadata": {},
   "source": [
    "### Get all projects"
   ]
  },
  {
   "cell_type": "code",
   "execution_count": null,
   "id": "22a9dddc-f676-40c6-8936-037c7d9560f9",
   "metadata": {},
   "outputs": [],
   "source": [
    "resp = requests.get(\n",
    "    f\"{BASE}/api/v1/rag/projects\",\n",
    "    headers=headers,\n",
    ")\n",
    "resp.raise_for_status()\n",
    "projects = resp.json()\n",
    "projects"
   ]
  },
  {
   "cell_type": "markdown",
   "id": "0a5441e2-dc69-462e-9c93-002b76c54b24",
   "metadata": {},
   "source": [
    "### Get Default Project"
   ]
  },
  {
   "cell_type": "code",
   "execution_count": null,
   "id": "3632b7f1-aa33-4c28-ab7b-8c47184a7c80",
   "metadata": {},
   "outputs": [],
   "source": [
    "resp = requests.get(\n",
    "    f\"{BASE}/api/v1/rag/projects/default\",\n",
    "    headers = headers,\n",
    ")\n",
    "resp.raise_for_status()\n",
    "default_project = resp.json()"
   ]
  },
  {
   "cell_type": "code",
   "execution_count": null,
   "id": "5f345891-1858-4e39-a03f-e0e9ff05f45d",
   "metadata": {},
   "outputs": [],
   "source": [
    "default_project"
   ]
  },
  {
   "cell_type": "markdown",
   "id": "b92e72af-7e6c-411d-8e30-d232e081bbd4",
   "metadata": {},
   "source": [
    "### Create a project"
   ]
  },
  {
   "cell_type": "code",
   "execution_count": null,
   "id": "d926e8b2-1594-413e-a412-0250f4cda5c7",
   "metadata": {},
   "outputs": [],
   "source": [
    "resp = requests.post(\n",
    "    f\"{BASE}/api/v1/rag/projects\",\n",
    "    headers=headers,\n",
    "    json={\"name\": \"new-project\"},\n",
    ")\n",
    "resp.raise_for_status()\n",
    "project = resp.json()\n",
    "print(project[\"id\"], project[\"name\"])"
   ]
  },
  {
   "cell_type": "code",
   "execution_count": null,
   "id": "3d6e72bb-741b-4a4a-97da-4d305ba78904",
   "metadata": {},
   "outputs": [],
   "source": [
    "project"
   ]
  },
  {
   "cell_type": "markdown",
   "id": "c939f629-36ab-49b7-8c3b-20a30e9fb416",
   "metadata": {},
   "source": [
    "## List Models Available"
   ]
  },
  {
   "cell_type": "code",
   "execution_count": null,
   "id": "d99d51b7-3ec5-41b9-a55b-e1774b66e38d",
   "metadata": {},
   "outputs": [],
   "source": [
    "# Model source\n",
    "resp = requests.get(f\"{BASE}/llm-service/models/model_source\", headers=headers)\n",
    "resp.raise_for_status()\n",
    "model_source = resp.json()\n",
    "\n",
    "# LLM (inference) models\n",
    "resp = requests.get(f\"{BASE}/llm-service/models/llm\", headers=headers)\n",
    "resp.raise_for_status()\n",
    "llm_models = resp.json()\n",
    "\n",
    "# Embedding models\n",
    "resp = requests.get(f\"{BASE}/llm-service/models/embeddings\", headers=headers)\n",
    "resp.raise_for_status()\n",
    "embedding_models = resp.json()\n",
    "\n",
    "# Reranking models\n",
    "resp = requests.get(f\"{BASE}/llm-service/models/reranking\", headers=headers)\n",
    "resp.raise_for_status()\n",
    "reranking_models = resp.json()\n",
    "\n",
    "# Example: pick first names (adjust selection as needed)\n",
    "llm_model_json = llm_models[0] if llm_models else None\n",
    "embedding_model_json = embedding_models[0] if embedding_models else None\n",
    "reranking_model_json = reranking_models[0] if reranking_models else None\n",
    "\n",
    "print(\n",
    "    f\"Selected Models: \\nLLM: {llm_model_json}\\nEmbdedding: {embedding_model_json}\\nReranker: {reranking_model_json}\"\n",
    ")"
   ]
  },
  {
   "cell_type": "markdown",
   "id": "4e0b6107-477a-416d-a143-8dff13503ae7",
   "metadata": {},
   "source": [
    "## Data Source/Knowledge Base"
   ]
  },
  {
   "cell_type": "markdown",
   "id": "b1e638f6-2af2-408e-85c2-efe43b684e1c",
   "metadata": {},
   "source": [
    "### Get All Data Sources if any"
   ]
  },
  {
   "cell_type": "code",
   "execution_count": null,
   "id": "cc7c997f-9ede-4a21-ad31-a6b11e942fad",
   "metadata": {},
   "outputs": [],
   "source": [
    "resp = requests.get(\n",
    "    f\"{BASE}/api/v1/rag/dataSources\",\n",
    "    headers=headers,\n",
    ")\n",
    "resp.raise_for_status()\n",
    "data_sources = resp.json()\n",
    "data_sources"
   ]
  },
  {
   "cell_type": "markdown",
   "id": "60f57ec1-43c8-468f-8fdf-7e0ccafe3de6",
   "metadata": {},
   "source": [
    "### Create Data Source"
   ]
  },
  {
   "cell_type": "code",
   "execution_count": null,
   "id": "4295c75b-140f-4c7d-992d-8f691d76c1da",
   "metadata": {},
   "outputs": [],
   "source": [
    "resp = requests.post(\n",
    "    f\"{BASE}/api/v1/rag/dataSources\",\n",
    "    headers=headers,\n",
    "    json={\n",
    "        \"name\": \"my-kb\",\n",
    "        \"embeddingModel\": embedding_model_json['model_id'],\n",
    "        \"summarizationModel\": llm_model_json['model_id'],\n",
    "        \"chunkSize\": 512,\n",
    "        \"chunkOverlapPercent\": 10,\n",
    "        \"connectionType\": \"MANUAL\",\n",
    "        \"availableForDefaultProject\": True, # default is false, can be configured to associate with any project below\n",
    "    },\n",
    ")\n",
    "resp.raise_for_status()"
   ]
  },
  {
   "cell_type": "code",
   "execution_count": null,
   "id": "e241106b-ddf6-449c-a9e9-9171f4e2d7cf",
   "metadata": {},
   "outputs": [],
   "source": [
    "ds = resp.json()\n",
    "print(ds[\"id\"], ds[\"name\"])"
   ]
  },
  {
   "cell_type": "code",
   "execution_count": null,
   "id": "ce80716f-4164-4bef-b954-0cef19798cc0",
   "metadata": {},
   "outputs": [],
   "source": [
    "ds"
   ]
  },
  {
   "cell_type": "markdown",
   "id": "07916051-a705-4441-a072-e5dab682e6b9",
   "metadata": {},
   "source": [
    "### Associate Data Source with Project (Optional)"
   ]
  },
  {
   "cell_type": "code",
   "execution_count": null,
   "id": "71cff6f9-776c-471a-9df0-f01f09c525d6",
   "metadata": {},
   "outputs": [],
   "source": [
    "ds_id = ds['id']\n",
    "project_id = project.get(\"id\", 1)\n",
    "resp = requests.post(\n",
    "    f\"{BASE}/api/v1/rag/projects/{project_id}/dataSources/{ds_id}\",\n",
    "    headers={\"Authorization\": f\"Bearer {API_KEY}\", \"remote-user\": \"alice\"},\n",
    ")\n",
    "resp.raise_for_status()"
   ]
  },
  {
   "cell_type": "code",
   "execution_count": null,
   "id": "98a5f46e-02cb-4bde-8268-c647ca7a83f8",
   "metadata": {},
   "outputs": [],
   "source": [
    "project_id = default_project.get(\"id\", 1)\n",
    "resp = requests.post(\n",
    "    f\"{BASE}/api/v1/rag/projects/{project_id}/dataSources/{ds_id}\",\n",
    "    headers={\"Authorization\": f\"Bearer {API_KEY}\", \"remote-user\": \"alice\"},\n",
    ")\n",
    "resp.raise_for_status()"
   ]
  },
  {
   "cell_type": "markdown",
   "id": "22688bc2-3d1a-416a-9800-c5e81f3357db",
   "metadata": {},
   "source": [
    "### Get Data Source Metadata to confirm"
   ]
  },
  {
   "cell_type": "code",
   "execution_count": null,
   "id": "9f0a8e40-3984-4ff7-93c9-d05d27aad2d7",
   "metadata": {},
   "outputs": [],
   "source": [
    "project_id = project.get(\"id\", 1)\n",
    "resp = requests.get(\n",
    "    f\"{BASE}/api/v1/rag/dataSources/{ds_id}\",\n",
    "    headers={\"Authorization\": f\"Bearer {API_KEY}\", \"remote-user\": \"alice\"},\n",
    ")\n",
    "resp.raise_for_status()\n",
    "ds = resp.json()"
   ]
  },
  {
   "cell_type": "code",
   "execution_count": null,
   "id": "c4a9e37a-e335-482d-93b8-b7e426da9216",
   "metadata": {},
   "outputs": [],
   "source": [
    "ds"
   ]
  },
  {
   "cell_type": "markdown",
   "id": "bff29dc3-fbf4-425b-9ef6-e43c64646b9f",
   "metadata": {},
   "source": [
    "### Check if the Data Source is in the Project's Data Sources"
   ]
  },
  {
   "cell_type": "code",
   "execution_count": null,
   "id": "a4134f40-9608-4d7f-b3e8-e4f019791fef",
   "metadata": {},
   "outputs": [],
   "source": [
    "project_id = default_project.get(\"id\", 1)\n",
    "resp = requests.get(\n",
    "    f\"{BASE}/api/v1/rag/projects/{project_id}/dataSources\",\n",
    "    headers=headers,\n",
    ")\n",
    "resp.raise_for_status()\n",
    "def_project_ds = resp.json()\n",
    "print(f\"Project ID: {project_id}\")\n",
    "def_project_ds"
   ]
  },
  {
   "cell_type": "code",
   "execution_count": null,
   "id": "488196af-5713-47d5-8d99-2733fa0a94ca",
   "metadata": {},
   "outputs": [],
   "source": [
    "project_id = project.get(\"id\", 1)\n",
    "resp = requests.get(\n",
    "    f\"{BASE}/api/v1/rag/projects/{project_id}/dataSources\",\n",
    "    headers=headers,\n",
    ")\n",
    "resp.raise_for_status()\n",
    "project_ds = resp.json()\n",
    "print(f\"Project ID: {project_id}\")\n",
    "project_ds"
   ]
  },
  {
   "cell_type": "markdown",
   "id": "262db6de-fa5a-4f86-be00-ed10c571f540",
   "metadata": {},
   "source": [
    "### Add documents to the knowledge base"
   ]
  },
  {
   "cell_type": "code",
   "execution_count": null,
   "id": "233042e5-1b49-4e2a-ab26-f61862f209fd",
   "metadata": {},
   "outputs": [],
   "source": [
    "files = [\n",
    "    {\"file\": open(\"doc1.pdf\", \"rb\")},\n",
    "    {\"file\": open(\"doc2.pdf\", \"rb\")},\n",
    "    {\"file\": open(\"doc3.pdf\", \"rb\")},\n",
    "]"
   ]
  },
  {
   "cell_type": "code",
   "execution_count": null,
   "id": "1eaf45db-95c9-48f7-b045-8beb5e48d888",
   "metadata": {},
   "outputs": [],
   "source": [
    "uploaded_files = []\n",
    "\n",
    "for file in files:\n",
    "    resp = requests.post(\n",
    "        f\"{BASE}/api/v1/rag/dataSources/{ds_id}/files\",\n",
    "        headers={\"Authorization\": f\"Bearer {API_KEY}\", \"remote-user\": \"alice\"},\n",
    "        files=file,\n",
    "    )\n",
    "    resp.raise_for_status()\n",
    "    document = resp.json()\n",
    "    uploaded_files.append(document)\n",
    "\n",
    "print(uploaded_files)"
   ]
  },
  {
   "cell_type": "markdown",
   "id": "4a459a49-14d1-471e-af96-630650f06162",
   "metadata": {},
   "source": [
    "### Check if documents are indexed"
   ]
  },
  {
   "cell_type": "code",
   "execution_count": null,
   "id": "cffcde82-4bde-4467-887a-120c68f67684",
   "metadata": {},
   "outputs": [],
   "source": [
    "resp = requests.get(\n",
    "    f\"{BASE}/api/v1/rag/dataSources/{ds_id}/files\",\n",
    "    headers=headers,\n",
    ")\n",
    "resp.raise_for_status()\n",
    "docs = resp.json()"
   ]
  },
  {
   "cell_type": "code",
   "execution_count": null,
   "id": "be283af6-ea4f-4733-8829-bf9292bebc28",
   "metadata": {},
   "outputs": [],
   "source": [
    "docs"
   ]
  },
  {
   "cell_type": "markdown",
   "id": "bf198609-75f2-48c5-a2e8-8546980032c1",
   "metadata": {},
   "source": [
    "Once indexingStatus is successful for any document, we can go ahead and create a session with a data source in a project (default project is used if not mentioned)"
   ]
  },
  {
   "cell_type": "markdown",
   "id": "35417d51-d7ca-41d0-a93a-e72cb2fca12f",
   "metadata": {},
   "source": [
    "## Sessions"
   ]
  },
  {
   "cell_type": "markdown",
   "id": "20a82e0d-875d-4777-8564-4aeb226f3256",
   "metadata": {},
   "source": [
    "### Get all sessions"
   ]
  },
  {
   "cell_type": "code",
   "execution_count": null,
   "id": "151af01e-9302-45d5-863b-87561f696282",
   "metadata": {},
   "outputs": [],
   "source": [
    "resp = requests.get(\n",
    "    f\"{BASE}/api/v1/rag/sessions\",\n",
    "    headers=headers,\n",
    ")\n",
    "resp.raise_for_status()\n",
    "all_sessions = resp.json()\n",
    "all_sessions"
   ]
  },
  {
   "cell_type": "markdown",
   "id": "7c02e359-2327-4137-959b-2f809c62f5f0",
   "metadata": {},
   "source": [
    "### Create a session"
   ]
  },
  {
   "cell_type": "code",
   "execution_count": null,
   "id": "3703a6f9-acc1-4750-90f1-1d7bdb25127b",
   "metadata": {},
   "outputs": [],
   "source": [
    "session_query_configuration = {\n",
    "      \"enableHyde\": False,\n",
    "      \"enableSummaryFilter\": False,\n",
    "      \"enableToolCalling\": False, # enable at your own risk\n",
    "      \"disableStreaming\": False, \n",
    "      \"selectedTools\": [] # add in tools, from the available tools endpoint\n",
    "}\n",
    "\n",
    "session_payload = {\n",
    "    \"name\": \"My Session\",\n",
    "    \"dataSourceIds\": [ds_id],\n",
    "    \"projectId\": project_id,\n",
    "    \"inferenceModel\": \"gpt-4o-mini\",\n",
    "    \"rerankModel\": \"bge-reranker\",\n",
    "    \"responseChunks\": 8,\n",
    "    \"queryConfiguration\": session_query_configuration,\n",
    "}\n",
    "resp = requests.post(\n",
    "    f\"{BASE}/api/v1/rag/sessions\",\n",
    "    headers=headers,\n",
    "    json=session_payload,\n",
    ")\n",
    "resp.raise_for_status()\n",
    "session = resp.json()\n",
    "session_id = session[\"id\"]"
   ]
  },
  {
   "cell_type": "code",
   "execution_count": null,
   "id": "f6599574-74b6-4ece-aaa5-a588a0b3666a",
   "metadata": {},
   "outputs": [],
   "source": [
    "session"
   ]
  },
  {
   "cell_type": "markdown",
   "id": "72e3c22d-3a16-4edf-9895-3e9ccda00946",
   "metadata": {},
   "source": [
    "### Update a session"
   ]
  },
  {
   "cell_type": "markdown",
   "id": "59b5a50c-508f-45f8-a958-177dad90044d",
   "metadata": {},
   "source": [
    "Update the inference model and reranker based on the list of models available to us"
   ]
  },
  {
   "cell_type": "code",
   "execution_count": null,
   "id": "fa635d94-3904-4770-b54e-cc5843dea461",
   "metadata": {},
   "outputs": [],
   "source": [
    "updated = session.copy()\n",
    "updated['inferenceModel'] = llm_model_json['model_id']\n",
    "updated['rerankModel'] = reranking_model_json['model_id']\n",
    "updated['queryConfiguration']['disableStreaming'] = False\n",
    "\n",
    "resp = requests.post(\n",
    "    f\"{BASE}/api/v1/rag/sessions/{session_id}\",\n",
    "    headers=headers,\n",
    "    json=updated,\n",
    ")\n",
    "resp.raise_for_status()\n",
    "session = resp.json()"
   ]
  },
  {
   "cell_type": "code",
   "execution_count": null,
   "id": "57bc6586-dd4f-4509-9d89-2d0414c3c426",
   "metadata": {},
   "outputs": [],
   "source": [
    "session"
   ]
  },
  {
   "cell_type": "markdown",
   "id": "cda968e9-a340-45d9-a9b7-c2d155ea8980",
   "metadata": {},
   "source": [
    "### Chat in the session"
   ]
  },
  {
   "cell_type": "markdown",
   "id": "21b7262d-82b8-4a7d-b1b5-420cf41ed346",
   "metadata": {},
   "source": [
    "(Recommended) Streaming"
   ]
  },
  {
   "cell_type": "code",
   "execution_count": null,
   "id": "bd1cb7e2-b117-4f67-9fb7-2853327eac30",
   "metadata": {},
   "outputs": [],
   "source": [
    "query_configuration = {\n",
    "        \"exclude_knowledge_base\": False,\n",
    "        \"use_question_condensing\": True,\n",
    "    }\n",
    "query_payload = {\n",
    "    \"query\": \"What benefits does cloudera offer?\",\n",
    "    \"configuration\": query_configuration,\n",
    "}\n",
    "\n",
    "response = requests.post(\n",
    "    f\"{BASE}/llm-service/sessions/{session_id}/stream-completion\",\n",
    "    headers=headers,\n",
    "    json=query_payload,\n",
    "    stream=True,\n",
    ")\n",
    "\n",
    "text = \"\"\n",
    "resp_id = None\n",
    "for resp_chunk in response:\n",
    "    decoded_resp_chunk = resp_chunk.decode('utf-8').strip()\n",
    "    if decoded_resp_chunk:\n",
    "        decoded_resp_json = json.loads(decoded_resp_chunk.replace(\"data:\", \"\"))\n",
    "        if 'text' in decoded_resp_json:\n",
    "            text += decoded_resp_json['text']\n",
    "            print(decoded_resp_json['text'], end=\"\")\n",
    "        if 'response_id' in decoded_resp_json:\n",
    "            resp_id = decoded_resp_json['response_id']"
   ]
  },
  {
   "cell_type": "code",
   "execution_count": null,
   "id": "ae1d7c89-5f59-4371-8914-08a40f631ac2",
   "metadata": {},
   "outputs": [],
   "source": [
    "print(\"Response ID:\", resp_id)\n",
    "print(\"Response:\")\n",
    "print(text)"
   ]
  },
  {
   "cell_type": "markdown",
   "id": "f3a3d5dd-2647-4dbe-a874-aded91402201",
   "metadata": {},
   "source": [
    "Non-streaming (Update session to disable streaming)"
   ]
  },
  {
   "cell_type": "code",
   "execution_count": null,
   "id": "2caf5806-6ae4-4875-a155-b777c4a5bd22",
   "metadata": {},
   "outputs": [],
   "source": [
    "updated = session.copy()\n",
    "updated['queryConfiguration']['disableStreaming'] = True \n",
    "resp = requests.post(\n",
    "    f\"{BASE}/api/v1/rag/sessions/{session_id}\",\n",
    "    headers=headers,\n",
    "    json=updated,\n",
    ")\n",
    "resp.raise_for_status()\n",
    "session = resp.json()"
   ]
  },
  {
   "cell_type": "code",
   "execution_count": null,
   "id": "cb3a1211-88d3-4a52-b9be-b4311b8c082c",
   "metadata": {},
   "outputs": [],
   "source": [
    "session"
   ]
  },
  {
   "cell_type": "code",
   "execution_count": null,
   "id": "8bf2de91-c2d8-4453-b660-a445b7018774",
   "metadata": {},
   "outputs": [],
   "source": [
    "query_configuration = {\n",
    "        \"exclude_knowledge_base\": False,\n",
    "        \"use_question_condensing\": True,\n",
    "    }\n",
    "query_payload = {\n",
    "    \"query\": \"What about upskilling for cloudera employees?\",\n",
    "    \"configuration\": query_configuration,\n",
    "}\n",
    "\n",
    "response = requests.post(\n",
    "    f\"{BASE}/llm-service/sessions/{session_id}/stream-completion\",\n",
    "    headers=headers,\n",
    "    json=query_payload,\n",
    "    stream=True,\n",
    ")\n",
    "\n",
    "resp_id_1 = None\n",
    "last_chunk = None\n",
    "for resp_chunk in response:\n",
    "    decoded_resp_chunk = resp_chunk.decode('utf-8').strip()\n",
    "    print(decoded_resp_chunk)\n",
    "    last_chunk = decoded_resp_chunk\n",
    "    if decoded_resp_chunk:\n",
    "        decoded_resp_json = json.loads(decoded_resp_chunk.replace(\"data:\", \"\"))\n",
    "        if \"response_id\" in decoded_resp_json:\n",
    "            resp_id_1 = decoded_resp_json[\"response_id\"]"
   ]
  },
  {
   "cell_type": "code",
   "execution_count": null,
   "id": "35f69222-527e-46e7-9bc3-82723e0a2185",
   "metadata": {},
   "outputs": [],
   "source": [
    "resp_id_1 = json.loads(last_chunk.replace(\"data:\", \"\"))[\"response_id\"]\n",
    "resp_id_1"
   ]
  },
  {
   "cell_type": "markdown",
   "id": "efd6580d-3068-40a9-af54-a20833c54720",
   "metadata": {},
   "source": [
    "In case of non-streaming, it is advised to fetch the response from the response ID after the above is done since the response is not returned from the endpoint but stored in chat history and fetched on UI. (shown below)"
   ]
  },
  {
   "cell_type": "markdown",
   "id": "09176647-f85b-4405-8faa-b1c5d90aa844",
   "metadata": {},
   "source": [
    "### Fetch response information i.e. Source Nodes etc"
   ]
  },
  {
   "cell_type": "markdown",
   "id": "35937586-915f-4552-9f90-cbe0ded8b662",
   "metadata": {},
   "source": [
    "#### From the streaming result"
   ]
  },
  {
   "cell_type": "code",
   "execution_count": null,
   "id": "6b4a2e5e-9df0-4f0e-be5a-47ea86ce78e7",
   "metadata": {},
   "outputs": [],
   "source": [
    "resp_id"
   ]
  },
  {
   "cell_type": "code",
   "execution_count": null,
   "id": "47d2a869-f7e0-4014-b043-f8f2285dbc21",
   "metadata": {},
   "outputs": [],
   "source": [
    "# Single message by id\n",
    "resp = requests.get(\n",
    "    f\"{BASE}/llm-service/sessions/{session_id}/chat-history/{resp_id}\",\n",
    "    headers=headers,\n",
    ")\n",
    "resp.raise_for_status()\n",
    "message = resp.json()\n",
    "message"
   ]
  },
  {
   "cell_type": "markdown",
   "id": "1d95556c-d15c-40f5-b7d7-ac74a13238a6",
   "metadata": {},
   "source": [
    "#### From the non-streaming result"
   ]
  },
  {
   "cell_type": "code",
   "execution_count": null,
   "id": "ede37243-5bb3-4249-95be-308494b07c47",
   "metadata": {},
   "outputs": [],
   "source": [
    "resp_id_1"
   ]
  },
  {
   "cell_type": "code",
   "execution_count": null,
   "id": "c1c04f2a-5ecd-4bcf-ac1d-9b28c6b1ee4d",
   "metadata": {},
   "outputs": [],
   "source": [
    "# Single message by id\n",
    "resp_1 = requests.get(\n",
    "    f\"{BASE}/llm-service/sessions/{session_id}/chat-history/{resp_id_1}\",\n",
    "    headers=headers,\n",
    ")\n",
    "resp_1.raise_for_status()\n",
    "message_1 = resp_1.json()\n",
    "message_1"
   ]
  },
  {
   "cell_type": "markdown",
   "id": "31a0563b-db92-4150-9d89-a41bcfe0da17",
   "metadata": {},
   "source": [
    "### Get Node Information"
   ]
  },
  {
   "cell_type": "code",
   "execution_count": null,
   "id": "ba4fb38d-6ab4-40e3-98c6-d202452577e8",
   "metadata": {},
   "outputs": [],
   "source": [
    "nodes = message.get(\"source_nodes\", [])  # [{node_id, doc_id, source_file_name, score, dataSourceId}]\n",
    "\n",
    "# Fetch chunk contents for the first node\n",
    "if nodes:\n",
    "    ds_id = nodes[0].get(\"dataSourceId\")\n",
    "    chunk_id = nodes[0].get(\"node_id\")\n",
    "    resp = requests.get(\n",
    "        f\"{BASE}/llm-service/data_sources/{ds_id}/chunks/{chunk_id}\",\n",
    "        headers={\"Authorization\": f\"Bearer {API_KEY}\"},\n",
    "    )\n",
    "    resp.raise_for_status()\n",
    "    chunk = resp.json()  # {\"text\": ..., \"metadata\": {...}}"
   ]
  },
  {
   "cell_type": "code",
   "execution_count": null,
   "id": "d1df885d-958e-4288-94ec-48c2861a8120",
   "metadata": {},
   "outputs": [],
   "source": [
    "chunk"
   ]
  },
  {
   "cell_type": "markdown",
   "id": "674932ea-3299-464c-8a97-4841310ed7db",
   "metadata": {},
   "source": [
    "### Retrieve Chat History"
   ]
  },
  {
   "cell_type": "code",
   "execution_count": null,
   "id": "8467fc65-1120-4836-b829-d4c30d0a33ee",
   "metadata": {},
   "outputs": [],
   "source": [
    "resp = requests.get(\n",
    "    f\"{BASE}/llm-service/sessions/{session_id}/chat-history\",\n",
    "    headers={\"Authorization\": f\"Bearer {API_KEY}\", \"remote-user\": \"alice\"},\n",
    ")\n",
    "resp.raise_for_status()\n",
    "history = resp.json()\n",
    "history"
   ]
  },
  {
   "cell_type": "markdown",
   "id": "33a7dffa-2f4a-406d-a76c-288e611d945e",
   "metadata": {},
   "source": [
    "### Rename the session with AI"
   ]
  },
  {
   "cell_type": "markdown",
   "id": "f2388da1-d8de-47c8-bd2c-c22115461169",
   "metadata": {},
   "source": [
    "(Needs at least 1 message in the chat history)"
   ]
  },
  {
   "cell_type": "code",
   "execution_count": null,
   "id": "5677bb46-aca2-46b6-89ed-68c4a5e34281",
   "metadata": {},
   "outputs": [],
   "source": [
    "resp = requests.post(\n",
    "    f\"{BASE}/llm-service/sessions/{session_id}/rename-session\",\n",
    "    headers=headers,\n",
    ")\n",
    "resp.raise_for_status()\n",
    "new_name = resp.text.strip()\n",
    "print(new_name)"
   ]
  },
  {
   "cell_type": "code",
   "execution_count": null,
   "id": "df6ddef0-d6b5-4c3e-bc60-7cc6881d5dd0",
   "metadata": {},
   "outputs": [],
   "source": [
    "# check if the session name changed\n",
    "\n",
    "resp = requests.get(\n",
    "    f\"{BASE}/api/v1/rag/sessions/{session_id}\",\n",
    "    headers=headers,\n",
    ")\n",
    "resp.raise_for_status()\n",
    "updated_session = resp.json()\n",
    "updated_session"
   ]
  },
  {
   "cell_type": "code",
   "execution_count": null,
   "id": "3fbcd16f-a58c-4acf-b1cd-5183fd5d36a9",
   "metadata": {},
   "outputs": [],
   "source": []
  }
 ],
 "metadata": {
  "kernelspec": {
   "display_name": "Python 3 (ipykernel)",
   "language": "python",
   "name": "python3"
  },
  "language_info": {
   "codemirror_mode": {
    "name": "ipython",
    "version": 3
   },
   "file_extension": ".py",
   "mimetype": "text/x-python",
   "name": "python",
   "nbconvert_exporter": "python",
   "pygments_lexer": "ipython3",
   "version": "3.10.17"
  }
 },
 "nbformat": 4,
 "nbformat_minor": 5
}
